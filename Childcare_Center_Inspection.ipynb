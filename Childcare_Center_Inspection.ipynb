{
 "cells": [
  {
   "cell_type": "code",
   "execution_count": 1,
   "metadata": {},
   "outputs": [],
   "source": [
    "import sklearn as sk\n",
    "from sklearn import preprocessing\n",
    "import pandas as pd\n",
    "import matplotlib\n",
    "import matplotlib.pyplot as plt\n",
    "import seaborn as sns #Control figure \n",
    "import numpy as np\n",
    "matplotlib.style.use('ggplot')\n",
    "%matplotlib inline"
   ]
  },
  {
   "cell_type": "code",
   "execution_count": 2,
   "metadata": {},
   "outputs": [],
   "source": [
    "from sodapy import Socrata"
   ]
  },
  {
   "cell_type": "code",
   "execution_count": 3,
   "metadata": {},
   "outputs": [],
   "source": [
    "#MyAppToken = ''"
   ]
  },
  {
   "cell_type": "code",
   "execution_count": 4,
   "metadata": {},
   "outputs": [],
   "source": [
    "#client = Socrata(\"data.cityofnewyork.us\", MyAppToken)"
   ]
  },
  {
   "cell_type": "code",
   "execution_count": 5,
   "metadata": {},
   "outputs": [],
   "source": [
    "#results = client.get(\"dsg6-ifza\", limit=2000)"
   ]
  },
  {
   "cell_type": "code",
   "execution_count": 6,
   "metadata": {},
   "outputs": [],
   "source": [
    "#df = pd.DataFrame.from_records(results)"
   ]
  },
  {
   "cell_type": "code",
   "execution_count": 7,
   "metadata": {},
   "outputs": [],
   "source": [
    "import os\n",
    "cwd = os.getcwd() #to get current working directory\n",
    "#print(cwd)"
   ]
  },
  {
   "cell_type": "code",
   "execution_count": 8,
   "metadata": {},
   "outputs": [],
   "source": [
    "df = pd.read_csv('DOHMH_Childcare_Center_Inspections.csv', encoding = \"iso-8859-1\")"
   ]
  },
  {
   "cell_type": "code",
   "execution_count": 9,
   "metadata": {},
   "outputs": [
    {
     "name": "stdout",
     "output_type": "stream",
     "text": [
      "<class 'pandas.core.frame.DataFrame'>\n",
      "RangeIndex: 53200 entries, 0 to 53199\n",
      "Data columns (total 34 columns):\n",
      "Center Name                                    53200 non-null object\n",
      "Legal Name                                     53200 non-null object\n",
      "Building                                       53192 non-null object\n",
      "Street                                         53200 non-null object\n",
      "Borough                                        53200 non-null object\n",
      "ZipCode                                        53123 non-null float64\n",
      "Phone                                          53126 non-null object\n",
      "Permit Number                                  47043 non-null float64\n",
      "Permit Expiration                              53200 non-null object\n",
      "Status                                         53200 non-null object\n",
      "Age Range                                      50906 non-null object\n",
      "Maximum Capacity                               53200 non-null int64\n",
      "Day Care ID                                    53200 non-null object\n",
      "Program Type                                   53200 non-null object\n",
      "Facility Type                                  53200 non-null object\n",
      "Child Care Type                                53200 non-null object\n",
      "Building Identification Number                 53200 non-null int64\n",
      "URL                                            26133 non-null object\n",
      "Date Permitted                                 46765 non-null object\n",
      "Actual                                         46765 non-null object\n",
      "Violation Rate Percent                         53122 non-null float64\n",
      "Average Violation Rate Percent                 53107 non-null float64\n",
      "Total Educational Workers                      53200 non-null int64\n",
      "Average Total Educational Workers              53200 non-null float64\n",
      "Public Health Hazard Violation Rate            53122 non-null float64\n",
      "Average Public Health Hazard Violation Rate    53107 non-null float64\n",
      "Critical Violation Rate                        53122 non-null float64\n",
      "Average Critical Violation Rate                53107 non-null float64\n",
      "Inspection Date                                53154 non-null object\n",
      "Regulation Summary                             53154 non-null object\n",
      "Violation Category                             37582 non-null object\n",
      "Health Code Sub Section                        37582 non-null object\n",
      "Violation Status                               37582 non-null object\n",
      "Inspection Summary Result                      50445 non-null object\n",
      "dtypes: float64(9), int64(3), object(22)\n",
      "memory usage: 13.8+ MB\n"
     ]
    }
   ],
   "source": [
    "df.info()"
   ]
  },
  {
   "cell_type": "code",
   "execution_count": 10,
   "metadata": {},
   "outputs": [],
   "source": [
    "def clean_string(astr):\n",
    "    return astr.lower().replace('.', '') \\\n",
    "        .replace(',', '') \\\n",
    "        .replace(';', '') \\\n",
    "        .replace(':', '') \\\n",
    "        .replace('á', 'a') \\\n",
    "        .replace('é', 'e') \\\n",
    "        .replace('í', 'i') \\\n",
    "        .replace('ó', 'o') \\\n",
    "        .replace('ú', 'u') \\\n",
    "        .replace(' ', '_') \\\n",
    "        .replace('ñ', 'ni')"
   ]
  },
  {
   "cell_type": "code",
   "execution_count": 11,
   "metadata": {},
   "outputs": [],
   "source": [
    "def clean_columns(df):\n",
    "    for series in df:\n",
    "        df.rename(columns={series:clean_string(series)}, inplace=True)"
   ]
  },
  {
   "cell_type": "code",
   "execution_count": 12,
   "metadata": {},
   "outputs": [],
   "source": [
    "def execute(raw_dataset_path, clean_dataset_path):\n",
    "    print(\"\\t-> Leyendo datos crudos a un DataFrame\")\n",
    "    df = pd.read_csv('DOHMH_Childcare_Center_Inspections.csv')"
   ]
  },
  {
   "cell_type": "code",
   "execution_count": 13,
   "metadata": {},
   "outputs": [
    {
     "name": "stdout",
     "output_type": "stream",
     "text": [
      "\t-> Limpando columnas\n"
     ]
    }
   ],
   "source": [
    "print(\"\\t-> Limpando columnas\")"
   ]
  },
  {
   "cell_type": "code",
   "execution_count": 14,
   "metadata": {},
   "outputs": [],
   "source": [
    "clean_columns(df)"
   ]
  },
  {
   "cell_type": "code",
   "execution_count": 15,
   "metadata": {},
   "outputs": [
    {
     "name": "stdout",
     "output_type": "stream",
     "text": [
      "<class 'pandas.core.frame.DataFrame'>\n",
      "RangeIndex: 53200 entries, 0 to 53199\n",
      "Data columns (total 34 columns):\n",
      "center_name                                    53200 non-null object\n",
      "legal_name                                     53200 non-null object\n",
      "building                                       53192 non-null object\n",
      "street                                         53200 non-null object\n",
      "borough                                        53200 non-null object\n",
      "zipcode                                        53123 non-null float64\n",
      "phone                                          53126 non-null object\n",
      "permit_number                                  47043 non-null float64\n",
      "permit_expiration                              53200 non-null object\n",
      "status                                         53200 non-null object\n",
      "age_range                                      50906 non-null object\n",
      "maximum_capacity                               53200 non-null int64\n",
      "day_care_id                                    53200 non-null object\n",
      "program_type                                   53200 non-null object\n",
      "facility_type                                  53200 non-null object\n",
      "child_care_type                                53200 non-null object\n",
      "building_identification_number                 53200 non-null int64\n",
      "url                                            26133 non-null object\n",
      "date_permitted                                 46765 non-null object\n",
      "actual                                         46765 non-null object\n",
      "violation_rate_percent                         53122 non-null float64\n",
      "average_violation_rate_percent                 53107 non-null float64\n",
      "total_educational_workers                      53200 non-null int64\n",
      "average_total_educational_workers              53200 non-null float64\n",
      "public_health_hazard_violation_rate            53122 non-null float64\n",
      "average_public_health_hazard_violation_rate    53107 non-null float64\n",
      "critical_violation_rate                        53122 non-null float64\n",
      "average_critical_violation_rate                53107 non-null float64\n",
      "inspection_date                                53154 non-null object\n",
      "regulation_summary                             53154 non-null object\n",
      "violation_category                             37582 non-null object\n",
      "health_code_sub_section                        37582 non-null object\n",
      "violation_status                               37582 non-null object\n",
      "inspection_summary_result                      50445 non-null object\n",
      "dtypes: float64(9), int64(3), object(22)\n",
      "memory usage: 13.8+ MB\n"
     ]
    }
   ],
   "source": [
    "df.info()"
   ]
  },
  {
   "cell_type": "code",
   "execution_count": 16,
   "metadata": {},
   "outputs": [
    {
     "name": "stdout",
     "output_type": "stream",
     "text": [
      "\t-> Reemplazando espacios en blanco\n"
     ]
    }
   ],
   "source": [
    "print(\"\\t-> Reemplazando espacios en blanco\")\n",
    "for col in df.select_dtypes('object'):\n",
    "    df[col] = df[col].replace('\\s+', ' ', regex=True)"
   ]
  },
  {
   "cell_type": "code",
   "execution_count": 17,
   "metadata": {},
   "outputs": [
    {
     "name": "stdout",
     "output_type": "stream",
     "text": [
      "\t-> Limpiando valores\n"
     ]
    }
   ],
   "source": [
    "print(\"\\t-> Limpiando valores\")\n",
    "for col in df.select_dtypes('object'):\n",
    "        df[col] = df[col].str.strip()\n",
    "        df[col] = df[col].str.lower()\n",
    "        df[col] = df[col].str.replace('á', 'a')\n",
    "        df[col] = df[col].str.replace('é', 'e')\n",
    "        df[col] = df[col].str.replace('í', 'i')\n",
    "        df[col] = df[col].str.replace('ó', 'o')\n",
    "        df[col] = df[col].str.replace('ú', 'u')\n",
    "        df[col] = df[col].str.replace(' ', '_')"
   ]
  },
  {
   "cell_type": "code",
   "execution_count": 18,
   "metadata": {},
   "outputs": [
    {
     "name": "stdout",
     "output_type": "stream",
     "text": [
      "\t-> Cambiando NA por np.nan\n"
     ]
    }
   ],
   "source": [
    "print(\"\\t-> Cambiando NA por np.nan\")\n",
    "for col in df.select_dtypes('object'):\n",
    "    df.loc[df[col] == 'na', col] = np.nan"
   ]
  },
  {
   "cell_type": "code",
   "execution_count": 19,
   "metadata": {},
   "outputs": [],
   "source": [
    "df.to_csv('df.csv', index=False)"
   ]
  },
  {
   "cell_type": "code",
   "execution_count": 20,
   "metadata": {},
   "outputs": [
    {
     "name": "stdout",
     "output_type": "stream",
     "text": [
      "\t-> Cuántos valores NaN tiene la base\n"
     ]
    }
   ],
   "source": [
    "print(\"\\t-> Cuántos valores NaN tiene la base\")"
   ]
  },
  {
   "cell_type": "code",
   "execution_count": 21,
   "metadata": {},
   "outputs": [
    {
     "data": {
      "text/plain": [
       "center_name                                        0\n",
       "legal_name                                         0\n",
       "building                                           8\n",
       "street                                             0\n",
       "borough                                            0\n",
       "zipcode                                           77\n",
       "phone                                             74\n",
       "permit_number                                   6157\n",
       "permit_expiration                                  0\n",
       "status                                             0\n",
       "age_range                                       2294\n",
       "maximum_capacity                                   0\n",
       "day_care_id                                        0\n",
       "program_type                                       0\n",
       "facility_type                                      0\n",
       "child_care_type                                    0\n",
       "building_identification_number                     0\n",
       "url                                            27067\n",
       "date_permitted                                  6435\n",
       "actual                                          6435\n",
       "violation_rate_percent                            78\n",
       "average_violation_rate_percent                    93\n",
       "total_educational_workers                          0\n",
       "average_total_educational_workers                  0\n",
       "public_health_hazard_violation_rate               78\n",
       "average_public_health_hazard_violation_rate       93\n",
       "critical_violation_rate                           78\n",
       "average_critical_violation_rate                   93\n",
       "inspection_date                                   46\n",
       "regulation_summary                                46\n",
       "violation_category                             15618\n",
       "health_code_sub_section                        15618\n",
       "violation_status                               15618\n",
       "inspection_summary_result                       2755\n",
       "dtype: int64"
      ]
     },
     "execution_count": 21,
     "metadata": {},
     "output_type": "execute_result"
    }
   ],
   "source": [
    "df.isnull().sum()"
   ]
  },
  {
   "cell_type": "code",
   "execution_count": 22,
   "metadata": {},
   "outputs": [
    {
     "name": "stdout",
     "output_type": "stream",
     "text": [
      "\t-> Eliminar duplicados\n"
     ]
    }
   ],
   "source": [
    "print(\"\\t-> Eliminar duplicados\")"
   ]
  },
  {
   "cell_type": "code",
   "execution_count": 23,
   "metadata": {},
   "outputs": [
    {
     "data": {
      "text/plain": [
       "13419"
      ]
     },
     "execution_count": 23,
     "metadata": {},
     "output_type": "execute_result"
    }
   ],
   "source": [
    "df.duplicated().sum()"
   ]
  },
  {
   "cell_type": "code",
   "execution_count": 24,
   "metadata": {},
   "outputs": [
    {
     "data": {
      "text/plain": [
       "(39781, 34)"
      ]
     },
     "execution_count": 24,
     "metadata": {},
     "output_type": "execute_result"
    }
   ],
   "source": [
    "df = df.drop_duplicates()\n",
    "df.shape"
   ]
  },
  {
   "cell_type": "code",
   "execution_count": 25,
   "metadata": {},
   "outputs": [
    {
     "name": "stdout",
     "output_type": "stream",
     "text": [
      "\t-> Reagrupar en dos variables Inspection Summary Result\n"
     ]
    }
   ],
   "source": [
    "print(\"\\t-> Reagrupar en dos variables Inspection Summary Result\")"
   ]
  },
  {
   "cell_type": "code",
   "execution_count": 26,
   "metadata": {},
   "outputs": [
    {
     "data": {
      "text/plain": [
       "initial_annual_inspection_-_reinspection_required;_fines_pending                                                10046\n",
       "initial_annual_inspection_-_passed_inspection_with_no_violations                                                 6715\n",
       "initial_annual_inspection_-_reinspection_required                                                                4302\n",
       "initial_annual_inspection_-_reinspection_not_required                                                            3628\n",
       "monitoring_inspection_non-routine_-_passed_inspection_with_no_violations                                         2275\n",
       "compliance_inspection_of_open_violations_-_reinspection_required;_fines_pending                                  2139\n",
       "NaN                                                                                                              2125\n",
       "monitoring_inspection_non-routine_-_reinspection_required;_fines_pending                                         1724\n",
       "compliance_inspection_of_open_violations_-_previously_cited_violations_corrected                                 1675\n",
       "compliance_inspection_of_open_violations_-_reinspection_required;_violations_corrected_at_time_of_inspection     1323\n",
       "compliance_inspection_of_open_violations_-_reinspection_required                                                  728\n",
       "compliance_inspection_of_open_violations_-_reinspection_not_required                                              586\n",
       "monitoring_inspection_non-routine_-_reinspection_required                                                         504\n",
       "monitoring_inspection_non-routine_-_reinspection_not_required                                                     443\n",
       "compliance_inspection_of_open_violations_-_passed_inspection;_violations_corrected_at_time_of_inspection          302\n",
       "initial_annual_inspection_-_passed_inspection;_violations_corrected_at_time_of_inspection                         236\n",
       "compliance_inspection_of_open_violations_-_passed_inspection_with_no_violations                                   213\n",
       "initial_annual_inspection_-_reinspection_required;_violations_corrected_at_time_of_inspection                     117\n",
       "monitoring_inspection_non-routine_-_reinspection_required;_program_closed                                         114\n",
       "initial_annual_inspection_-_reinspection_required;_program_closed                                                 112\n",
       "monitoring_inspection_non-routine_-_previously_cited_violations_corrected                                          97\n",
       "monitoring_inspection_non-routine_-_reinspection_required;_violations_corrected_at_time_of_inspection              79\n",
       "initial_annual_inspection_-_previously_cited_violations_corrected                                                  76\n",
       "monitoring_inspection_non-routine_-_previously_closed_program_re-opened                                            52\n",
       "monitoring_inspection_non-routine_-_passed_inspection;_violations_corrected_at_time_of_inspection                  35\n",
       "compliance_inspection_of_open_violations_-_previously_closed_program_re-opened                                     34\n",
       "lead_based_paint_or_lead_in_water_inspection_-_passed_inspection_with_no_violations                                33\n",
       "lead_based_paint_or_lead_in_water_inspection_-_previously_cited_violations_corrected                               28\n",
       "compliance_inspection_of_open_violations_-_reinspection_required;_program_closed                                   22\n",
       "lead_based_paint_or_lead_in_water_inspection_-_reinspection_required                                                9\n",
       "lead_based_paint_or_lead_in_water_inspection_-_reinspection_required;_fines_pending                                 8\n",
       "initial_annual_inspection_-_previously_closed_program_re-opened                                                     1\n",
       "Name: inspection_summary_result, dtype: int64"
      ]
     },
     "execution_count": 26,
     "metadata": {},
     "output_type": "execute_result"
    }
   ],
   "source": [
    "df.inspection_summary_result.value_counts(dropna=False) #Observar que existen 2,125 NaN"
   ]
  },
  {
   "cell_type": "code",
   "execution_count": 27,
   "metadata": {},
   "outputs": [],
   "source": [
    "df_1 = df.inspection_summary_result.str.partition('_-_')"
   ]
  },
  {
   "cell_type": "code",
   "execution_count": 28,
   "metadata": {},
   "outputs": [
    {
     "data": {
      "text/html": [
       "<div>\n",
       "<style scoped>\n",
       "    .dataframe tbody tr th:only-of-type {\n",
       "        vertical-align: middle;\n",
       "    }\n",
       "\n",
       "    .dataframe tbody tr th {\n",
       "        vertical-align: top;\n",
       "    }\n",
       "\n",
       "    .dataframe thead th {\n",
       "        text-align: right;\n",
       "    }\n",
       "</style>\n",
       "<table border=\"1\" class=\"dataframe\">\n",
       "  <thead>\n",
       "    <tr style=\"text-align: right;\">\n",
       "      <th></th>\n",
       "      <th>0</th>\n",
       "      <th>1</th>\n",
       "      <th>2</th>\n",
       "    </tr>\n",
       "  </thead>\n",
       "  <tbody>\n",
       "    <tr>\n",
       "      <td>0</td>\n",
       "      <td>initial_annual_inspection</td>\n",
       "      <td>_-_</td>\n",
       "      <td>reinspection_required</td>\n",
       "    </tr>\n",
       "    <tr>\n",
       "      <td>1</td>\n",
       "      <td>compliance_inspection_of_open_violations</td>\n",
       "      <td>_-_</td>\n",
       "      <td>previously_cited_violations_corrected</td>\n",
       "    </tr>\n",
       "    <tr>\n",
       "      <td>2</td>\n",
       "      <td>initial_annual_inspection</td>\n",
       "      <td>_-_</td>\n",
       "      <td>reinspection_required</td>\n",
       "    </tr>\n",
       "    <tr>\n",
       "      <td>3</td>\n",
       "      <td>compliance_inspection_of_open_violations</td>\n",
       "      <td>_-_</td>\n",
       "      <td>previously_cited_violations_corrected</td>\n",
       "    </tr>\n",
       "    <tr>\n",
       "      <td>4</td>\n",
       "      <td>initial_annual_inspection</td>\n",
       "      <td>_-_</td>\n",
       "      <td>reinspection_required</td>\n",
       "    </tr>\n",
       "    <tr>\n",
       "      <td>...</td>\n",
       "      <td>...</td>\n",
       "      <td>...</td>\n",
       "      <td>...</td>\n",
       "    </tr>\n",
       "    <tr>\n",
       "      <td>53195</td>\n",
       "      <td>compliance_inspection_of_open_violations</td>\n",
       "      <td>_-_</td>\n",
       "      <td>reinspection_required;_fines_pending</td>\n",
       "    </tr>\n",
       "    <tr>\n",
       "      <td>53196</td>\n",
       "      <td>initial_annual_inspection</td>\n",
       "      <td>_-_</td>\n",
       "      <td>reinspection_required;_fines_pending</td>\n",
       "    </tr>\n",
       "    <tr>\n",
       "      <td>53197</td>\n",
       "      <td>initial_annual_inspection</td>\n",
       "      <td>_-_</td>\n",
       "      <td>reinspection_required;_fines_pending</td>\n",
       "    </tr>\n",
       "    <tr>\n",
       "      <td>53198</td>\n",
       "      <td>initial_annual_inspection</td>\n",
       "      <td>_-_</td>\n",
       "      <td>passed_inspection_with_no_violations</td>\n",
       "    </tr>\n",
       "    <tr>\n",
       "      <td>53199</td>\n",
       "      <td>initial_annual_inspection</td>\n",
       "      <td>_-_</td>\n",
       "      <td>reinspection_required;_fines_pending</td>\n",
       "    </tr>\n",
       "  </tbody>\n",
       "</table>\n",
       "<p>39781 rows × 3 columns</p>\n",
       "</div>"
      ],
      "text/plain": [
       "                                              0    1  \\\n",
       "0                     initial_annual_inspection  _-_   \n",
       "1      compliance_inspection_of_open_violations  _-_   \n",
       "2                     initial_annual_inspection  _-_   \n",
       "3      compliance_inspection_of_open_violations  _-_   \n",
       "4                     initial_annual_inspection  _-_   \n",
       "...                                         ...  ...   \n",
       "53195  compliance_inspection_of_open_violations  _-_   \n",
       "53196                 initial_annual_inspection  _-_   \n",
       "53197                 initial_annual_inspection  _-_   \n",
       "53198                 initial_annual_inspection  _-_   \n",
       "53199                 initial_annual_inspection  _-_   \n",
       "\n",
       "                                           2  \n",
       "0                      reinspection_required  \n",
       "1      previously_cited_violations_corrected  \n",
       "2                      reinspection_required  \n",
       "3      previously_cited_violations_corrected  \n",
       "4                      reinspection_required  \n",
       "...                                      ...  \n",
       "53195   reinspection_required;_fines_pending  \n",
       "53196   reinspection_required;_fines_pending  \n",
       "53197   reinspection_required;_fines_pending  \n",
       "53198   passed_inspection_with_no_violations  \n",
       "53199   reinspection_required;_fines_pending  \n",
       "\n",
       "[39781 rows x 3 columns]"
      ]
     },
     "execution_count": 28,
     "metadata": {},
     "output_type": "execute_result"
    }
   ],
   "source": [
    "df_1"
   ]
  },
  {
   "cell_type": "code",
   "execution_count": 29,
   "metadata": {},
   "outputs": [],
   "source": [
    "df_1.rename(columns={0:'inspection_reason', 2:'result'}, inplace=True)"
   ]
  },
  {
   "cell_type": "code",
   "execution_count": 30,
   "metadata": {},
   "outputs": [
    {
     "data": {
      "text/plain": [
       "initial_annual_inspection                       25233\n",
       "compliance_inspection_of_open_violations         7022\n",
       "monitoring_inspection_non-routine                5323\n",
       "NaN                                              2125\n",
       "lead_based_paint_or_lead_in_water_inspection       78\n",
       "Name: inspection_reason, dtype: int64"
      ]
     },
     "execution_count": 30,
     "metadata": {},
     "output_type": "execute_result"
    }
   ],
   "source": [
    "df_1.inspection_reason.value_counts(dropna=False)"
   ]
  },
  {
   "cell_type": "code",
   "execution_count": 31,
   "metadata": {},
   "outputs": [
    {
     "data": {
      "text/plain": [
       "reinspection_required;_fines_pending                                 13917\n",
       "passed_inspection_with_no_violations                                  9236\n",
       "reinspection_required                                                 5543\n",
       "reinspection_not_required                                             4657\n",
       "NaN                                                                   2125\n",
       "previously_cited_violations_corrected                                 1876\n",
       "reinspection_required;_violations_corrected_at_time_of_inspection     1519\n",
       "passed_inspection;_violations_corrected_at_time_of_inspection          573\n",
       "reinspection_required;_program_closed                                  248\n",
       "previously_closed_program_re-opened                                     87\n",
       "Name: result, dtype: int64"
      ]
     },
     "execution_count": 31,
     "metadata": {},
     "output_type": "execute_result"
    }
   ],
   "source": [
    "df_1.result.value_counts(dropna=False)"
   ]
  },
  {
   "cell_type": "code",
   "execution_count": 32,
   "metadata": {},
   "outputs": [
    {
     "data": {
      "text/html": [
       "<div>\n",
       "<style scoped>\n",
       "    .dataframe tbody tr th:only-of-type {\n",
       "        vertical-align: middle;\n",
       "    }\n",
       "\n",
       "    .dataframe tbody tr th {\n",
       "        vertical-align: top;\n",
       "    }\n",
       "\n",
       "    .dataframe thead th {\n",
       "        text-align: right;\n",
       "    }\n",
       "</style>\n",
       "<table border=\"1\" class=\"dataframe\">\n",
       "  <thead>\n",
       "    <tr style=\"text-align: right;\">\n",
       "      <th></th>\n",
       "      <th>inspection_reason</th>\n",
       "      <th>1</th>\n",
       "      <th>result</th>\n",
       "    </tr>\n",
       "  </thead>\n",
       "  <tbody>\n",
       "    <tr>\n",
       "      <td>0</td>\n",
       "      <td>initial_annual_inspection</td>\n",
       "      <td>_-_</td>\n",
       "      <td>reinspection_required</td>\n",
       "    </tr>\n",
       "    <tr>\n",
       "      <td>1</td>\n",
       "      <td>compliance_inspection_of_open_violations</td>\n",
       "      <td>_-_</td>\n",
       "      <td>previously_cited_violations_corrected</td>\n",
       "    </tr>\n",
       "    <tr>\n",
       "      <td>2</td>\n",
       "      <td>initial_annual_inspection</td>\n",
       "      <td>_-_</td>\n",
       "      <td>reinspection_required</td>\n",
       "    </tr>\n",
       "    <tr>\n",
       "      <td>3</td>\n",
       "      <td>compliance_inspection_of_open_violations</td>\n",
       "      <td>_-_</td>\n",
       "      <td>previously_cited_violations_corrected</td>\n",
       "    </tr>\n",
       "    <tr>\n",
       "      <td>4</td>\n",
       "      <td>initial_annual_inspection</td>\n",
       "      <td>_-_</td>\n",
       "      <td>reinspection_required</td>\n",
       "    </tr>\n",
       "    <tr>\n",
       "      <td>...</td>\n",
       "      <td>...</td>\n",
       "      <td>...</td>\n",
       "      <td>...</td>\n",
       "    </tr>\n",
       "    <tr>\n",
       "      <td>53195</td>\n",
       "      <td>compliance_inspection_of_open_violations</td>\n",
       "      <td>_-_</td>\n",
       "      <td>reinspection_required;_fines_pending</td>\n",
       "    </tr>\n",
       "    <tr>\n",
       "      <td>53196</td>\n",
       "      <td>initial_annual_inspection</td>\n",
       "      <td>_-_</td>\n",
       "      <td>reinspection_required;_fines_pending</td>\n",
       "    </tr>\n",
       "    <tr>\n",
       "      <td>53197</td>\n",
       "      <td>initial_annual_inspection</td>\n",
       "      <td>_-_</td>\n",
       "      <td>reinspection_required;_fines_pending</td>\n",
       "    </tr>\n",
       "    <tr>\n",
       "      <td>53198</td>\n",
       "      <td>initial_annual_inspection</td>\n",
       "      <td>_-_</td>\n",
       "      <td>passed_inspection_with_no_violations</td>\n",
       "    </tr>\n",
       "    <tr>\n",
       "      <td>53199</td>\n",
       "      <td>initial_annual_inspection</td>\n",
       "      <td>_-_</td>\n",
       "      <td>reinspection_required;_fines_pending</td>\n",
       "    </tr>\n",
       "  </tbody>\n",
       "</table>\n",
       "<p>39781 rows × 3 columns</p>\n",
       "</div>"
      ],
      "text/plain": [
       "                              inspection_reason    1  \\\n",
       "0                     initial_annual_inspection  _-_   \n",
       "1      compliance_inspection_of_open_violations  _-_   \n",
       "2                     initial_annual_inspection  _-_   \n",
       "3      compliance_inspection_of_open_violations  _-_   \n",
       "4                     initial_annual_inspection  _-_   \n",
       "...                                         ...  ...   \n",
       "53195  compliance_inspection_of_open_violations  _-_   \n",
       "53196                 initial_annual_inspection  _-_   \n",
       "53197                 initial_annual_inspection  _-_   \n",
       "53198                 initial_annual_inspection  _-_   \n",
       "53199                 initial_annual_inspection  _-_   \n",
       "\n",
       "                                      result  \n",
       "0                      reinspection_required  \n",
       "1      previously_cited_violations_corrected  \n",
       "2                      reinspection_required  \n",
       "3      previously_cited_violations_corrected  \n",
       "4                      reinspection_required  \n",
       "...                                      ...  \n",
       "53195   reinspection_required;_fines_pending  \n",
       "53196   reinspection_required;_fines_pending  \n",
       "53197   reinspection_required;_fines_pending  \n",
       "53198   passed_inspection_with_no_violations  \n",
       "53199   reinspection_required;_fines_pending  \n",
       "\n",
       "[39781 rows x 3 columns]"
      ]
     },
     "execution_count": 32,
     "metadata": {},
     "output_type": "execute_result"
    }
   ],
   "source": [
    "df_1"
   ]
  },
  {
   "cell_type": "code",
   "execution_count": 33,
   "metadata": {},
   "outputs": [],
   "source": [
    "df_1 = df_1.drop(df_1.columns[[1]], axis=1) "
   ]
  },
  {
   "cell_type": "code",
   "execution_count": 34,
   "metadata": {},
   "outputs": [
    {
     "data": {
      "text/html": [
       "<div>\n",
       "<style scoped>\n",
       "    .dataframe tbody tr th:only-of-type {\n",
       "        vertical-align: middle;\n",
       "    }\n",
       "\n",
       "    .dataframe tbody tr th {\n",
       "        vertical-align: top;\n",
       "    }\n",
       "\n",
       "    .dataframe thead th {\n",
       "        text-align: right;\n",
       "    }\n",
       "</style>\n",
       "<table border=\"1\" class=\"dataframe\">\n",
       "  <thead>\n",
       "    <tr style=\"text-align: right;\">\n",
       "      <th></th>\n",
       "      <th>inspection_reason</th>\n",
       "      <th>result</th>\n",
       "    </tr>\n",
       "  </thead>\n",
       "  <tbody>\n",
       "    <tr>\n",
       "      <td>0</td>\n",
       "      <td>initial_annual_inspection</td>\n",
       "      <td>reinspection_required</td>\n",
       "    </tr>\n",
       "    <tr>\n",
       "      <td>1</td>\n",
       "      <td>compliance_inspection_of_open_violations</td>\n",
       "      <td>previously_cited_violations_corrected</td>\n",
       "    </tr>\n",
       "    <tr>\n",
       "      <td>2</td>\n",
       "      <td>initial_annual_inspection</td>\n",
       "      <td>reinspection_required</td>\n",
       "    </tr>\n",
       "    <tr>\n",
       "      <td>3</td>\n",
       "      <td>compliance_inspection_of_open_violations</td>\n",
       "      <td>previously_cited_violations_corrected</td>\n",
       "    </tr>\n",
       "    <tr>\n",
       "      <td>4</td>\n",
       "      <td>initial_annual_inspection</td>\n",
       "      <td>reinspection_required</td>\n",
       "    </tr>\n",
       "    <tr>\n",
       "      <td>...</td>\n",
       "      <td>...</td>\n",
       "      <td>...</td>\n",
       "    </tr>\n",
       "    <tr>\n",
       "      <td>53195</td>\n",
       "      <td>compliance_inspection_of_open_violations</td>\n",
       "      <td>reinspection_required;_fines_pending</td>\n",
       "    </tr>\n",
       "    <tr>\n",
       "      <td>53196</td>\n",
       "      <td>initial_annual_inspection</td>\n",
       "      <td>reinspection_required;_fines_pending</td>\n",
       "    </tr>\n",
       "    <tr>\n",
       "      <td>53197</td>\n",
       "      <td>initial_annual_inspection</td>\n",
       "      <td>reinspection_required;_fines_pending</td>\n",
       "    </tr>\n",
       "    <tr>\n",
       "      <td>53198</td>\n",
       "      <td>initial_annual_inspection</td>\n",
       "      <td>passed_inspection_with_no_violations</td>\n",
       "    </tr>\n",
       "    <tr>\n",
       "      <td>53199</td>\n",
       "      <td>initial_annual_inspection</td>\n",
       "      <td>reinspection_required;_fines_pending</td>\n",
       "    </tr>\n",
       "  </tbody>\n",
       "</table>\n",
       "<p>39781 rows × 2 columns</p>\n",
       "</div>"
      ],
      "text/plain": [
       "                              inspection_reason  \\\n",
       "0                     initial_annual_inspection   \n",
       "1      compliance_inspection_of_open_violations   \n",
       "2                     initial_annual_inspection   \n",
       "3      compliance_inspection_of_open_violations   \n",
       "4                     initial_annual_inspection   \n",
       "...                                         ...   \n",
       "53195  compliance_inspection_of_open_violations   \n",
       "53196                 initial_annual_inspection   \n",
       "53197                 initial_annual_inspection   \n",
       "53198                 initial_annual_inspection   \n",
       "53199                 initial_annual_inspection   \n",
       "\n",
       "                                      result  \n",
       "0                      reinspection_required  \n",
       "1      previously_cited_violations_corrected  \n",
       "2                      reinspection_required  \n",
       "3      previously_cited_violations_corrected  \n",
       "4                      reinspection_required  \n",
       "...                                      ...  \n",
       "53195   reinspection_required;_fines_pending  \n",
       "53196   reinspection_required;_fines_pending  \n",
       "53197   reinspection_required;_fines_pending  \n",
       "53198   passed_inspection_with_no_violations  \n",
       "53199   reinspection_required;_fines_pending  \n",
       "\n",
       "[39781 rows x 2 columns]"
      ]
     },
     "execution_count": 34,
     "metadata": {},
     "output_type": "execute_result"
    }
   ],
   "source": [
    "df_1"
   ]
  },
  {
   "cell_type": "code",
   "execution_count": 35,
   "metadata": {},
   "outputs": [],
   "source": [
    "df = pd.concat([df, df_1], axis=1)"
   ]
  },
  {
   "cell_type": "code",
   "execution_count": 36,
   "metadata": {},
   "outputs": [
    {
     "data": {
      "text/plain": [
       "(39781, 36)"
      ]
     },
     "execution_count": 36,
     "metadata": {},
     "output_type": "execute_result"
    }
   ],
   "source": [
    "df.shape"
   ]
  },
  {
   "cell_type": "code",
   "execution_count": 37,
   "metadata": {},
   "outputs": [
    {
     "data": {
      "text/html": [
       "<div>\n",
       "<style scoped>\n",
       "    .dataframe tbody tr th:only-of-type {\n",
       "        vertical-align: middle;\n",
       "    }\n",
       "\n",
       "    .dataframe tbody tr th {\n",
       "        vertical-align: top;\n",
       "    }\n",
       "\n",
       "    .dataframe thead th {\n",
       "        text-align: right;\n",
       "    }\n",
       "</style>\n",
       "<table border=\"1\" class=\"dataframe\">\n",
       "  <thead>\n",
       "    <tr style=\"text-align: right;\">\n",
       "      <th></th>\n",
       "      <th>center_name</th>\n",
       "      <th>legal_name</th>\n",
       "      <th>building</th>\n",
       "      <th>street</th>\n",
       "      <th>borough</th>\n",
       "      <th>zipcode</th>\n",
       "      <th>phone</th>\n",
       "      <th>permit_number</th>\n",
       "      <th>permit_expiration</th>\n",
       "      <th>status</th>\n",
       "      <th>...</th>\n",
       "      <th>critical_violation_rate</th>\n",
       "      <th>average_critical_violation_rate</th>\n",
       "      <th>inspection_date</th>\n",
       "      <th>regulation_summary</th>\n",
       "      <th>violation_category</th>\n",
       "      <th>health_code_sub_section</th>\n",
       "      <th>violation_status</th>\n",
       "      <th>inspection_summary_result</th>\n",
       "      <th>inspection_reason</th>\n",
       "      <th>result</th>\n",
       "    </tr>\n",
       "  </thead>\n",
       "  <tbody>\n",
       "    <tr>\n",
       "      <td>0</td>\n",
       "      <td>yeshivat_ohr_haiim</td>\n",
       "      <td>yeshivat_ohr_haiim</td>\n",
       "      <td>86-06</td>\n",
       "      <td>135th_street</td>\n",
       "      <td>queens</td>\n",
       "      <td>11418.0</td>\n",
       "      <td>718-658-7066</td>\n",
       "      <td>NaN</td>\n",
       "      <td>01/23/2115</td>\n",
       "      <td>active</td>\n",
       "      <td>...</td>\n",
       "      <td>100.0</td>\n",
       "      <td>NaN</td>\n",
       "      <td>01/31/2019</td>\n",
       "      <td>written_safety_plan_describes_provisions_for_h...</td>\n",
       "      <td>general</td>\n",
       "      <td>43.07(b)(4)</td>\n",
       "      <td>corrected</td>\n",
       "      <td>initial_annual_inspection_-_reinspection_required</td>\n",
       "      <td>initial_annual_inspection</td>\n",
       "      <td>reinspection_required</td>\n",
       "    </tr>\n",
       "    <tr>\n",
       "      <td>1</td>\n",
       "      <td>yeshivat_ohr_haiim</td>\n",
       "      <td>yeshivat_ohr_haiim</td>\n",
       "      <td>86-06</td>\n",
       "      <td>135th_street</td>\n",
       "      <td>queens</td>\n",
       "      <td>11418.0</td>\n",
       "      <td>718-658-7066</td>\n",
       "      <td>NaN</td>\n",
       "      <td>01/23/2115</td>\n",
       "      <td>active</td>\n",
       "      <td>...</td>\n",
       "      <td>100.0</td>\n",
       "      <td>NaN</td>\n",
       "      <td>05/30/2018</td>\n",
       "      <td>there_were_no_new_violations_observed_at_the_t...</td>\n",
       "      <td>NaN</td>\n",
       "      <td>NaN</td>\n",
       "      <td>NaN</td>\n",
       "      <td>compliance_inspection_of_open_violations_-_pre...</td>\n",
       "      <td>compliance_inspection_of_open_violations</td>\n",
       "      <td>previously_cited_violations_corrected</td>\n",
       "    </tr>\n",
       "    <tr>\n",
       "      <td>2</td>\n",
       "      <td>yeshivat_ohr_haiim</td>\n",
       "      <td>yeshivat_ohr_haiim</td>\n",
       "      <td>86-06</td>\n",
       "      <td>135th_street</td>\n",
       "      <td>queens</td>\n",
       "      <td>11418.0</td>\n",
       "      <td>718-658-7066</td>\n",
       "      <td>NaN</td>\n",
       "      <td>01/23/2115</td>\n",
       "      <td>active</td>\n",
       "      <td>...</td>\n",
       "      <td>100.0</td>\n",
       "      <td>NaN</td>\n",
       "      <td>01/31/2019</td>\n",
       "      <td>children_enrolled_in_school-based_child_care_p...</td>\n",
       "      <td>critical</td>\n",
       "      <td>43.17(a)(1)</td>\n",
       "      <td>corrected</td>\n",
       "      <td>initial_annual_inspection_-_reinspection_required</td>\n",
       "      <td>initial_annual_inspection</td>\n",
       "      <td>reinspection_required</td>\n",
       "    </tr>\n",
       "    <tr>\n",
       "      <td>3</td>\n",
       "      <td>yeshivat_ohr_haiim</td>\n",
       "      <td>yeshivat_ohr_haiim</td>\n",
       "      <td>86-06</td>\n",
       "      <td>135th_street</td>\n",
       "      <td>queens</td>\n",
       "      <td>11418.0</td>\n",
       "      <td>718-658-7066</td>\n",
       "      <td>NaN</td>\n",
       "      <td>01/23/2115</td>\n",
       "      <td>active</td>\n",
       "      <td>...</td>\n",
       "      <td>100.0</td>\n",
       "      <td>NaN</td>\n",
       "      <td>04/16/2019</td>\n",
       "      <td>there_were_no_new_violations_observed_at_the_t...</td>\n",
       "      <td>NaN</td>\n",
       "      <td>NaN</td>\n",
       "      <td>NaN</td>\n",
       "      <td>compliance_inspection_of_open_violations_-_pre...</td>\n",
       "      <td>compliance_inspection_of_open_violations</td>\n",
       "      <td>previously_cited_violations_corrected</td>\n",
       "    </tr>\n",
       "    <tr>\n",
       "      <td>4</td>\n",
       "      <td>yeshivat_ohr_haiim</td>\n",
       "      <td>yeshivat_ohr_haiim</td>\n",
       "      <td>86-06</td>\n",
       "      <td>135th_street</td>\n",
       "      <td>queens</td>\n",
       "      <td>11418.0</td>\n",
       "      <td>718-658-7066</td>\n",
       "      <td>NaN</td>\n",
       "      <td>01/23/2115</td>\n",
       "      <td>active</td>\n",
       "      <td>...</td>\n",
       "      <td>100.0</td>\n",
       "      <td>NaN</td>\n",
       "      <td>04/17/2018</td>\n",
       "      <td>sufficient_handwash_sinks_with_hot_and_cold_ru...</td>\n",
       "      <td>critical</td>\n",
       "      <td>131.09(d)(2)</td>\n",
       "      <td>corrected</td>\n",
       "      <td>initial_annual_inspection_-_reinspection_required</td>\n",
       "      <td>initial_annual_inspection</td>\n",
       "      <td>reinspection_required</td>\n",
       "    </tr>\n",
       "  </tbody>\n",
       "</table>\n",
       "<p>5 rows × 36 columns</p>\n",
       "</div>"
      ],
      "text/plain": [
       "          center_name          legal_name building        street borough  \\\n",
       "0  yeshivat_ohr_haiim  yeshivat_ohr_haiim    86-06  135th_street  queens   \n",
       "1  yeshivat_ohr_haiim  yeshivat_ohr_haiim    86-06  135th_street  queens   \n",
       "2  yeshivat_ohr_haiim  yeshivat_ohr_haiim    86-06  135th_street  queens   \n",
       "3  yeshivat_ohr_haiim  yeshivat_ohr_haiim    86-06  135th_street  queens   \n",
       "4  yeshivat_ohr_haiim  yeshivat_ohr_haiim    86-06  135th_street  queens   \n",
       "\n",
       "   zipcode         phone  permit_number permit_expiration  status  ...  \\\n",
       "0  11418.0  718-658-7066            NaN        01/23/2115  active  ...   \n",
       "1  11418.0  718-658-7066            NaN        01/23/2115  active  ...   \n",
       "2  11418.0  718-658-7066            NaN        01/23/2115  active  ...   \n",
       "3  11418.0  718-658-7066            NaN        01/23/2115  active  ...   \n",
       "4  11418.0  718-658-7066            NaN        01/23/2115  active  ...   \n",
       "\n",
       "  critical_violation_rate  average_critical_violation_rate inspection_date  \\\n",
       "0                   100.0                              NaN      01/31/2019   \n",
       "1                   100.0                              NaN      05/30/2018   \n",
       "2                   100.0                              NaN      01/31/2019   \n",
       "3                   100.0                              NaN      04/16/2019   \n",
       "4                   100.0                              NaN      04/17/2018   \n",
       "\n",
       "                                  regulation_summary violation_category  \\\n",
       "0  written_safety_plan_describes_provisions_for_h...            general   \n",
       "1  there_were_no_new_violations_observed_at_the_t...                NaN   \n",
       "2  children_enrolled_in_school-based_child_care_p...           critical   \n",
       "3  there_were_no_new_violations_observed_at_the_t...                NaN   \n",
       "4  sufficient_handwash_sinks_with_hot_and_cold_ru...           critical   \n",
       "\n",
       "  health_code_sub_section  violation_status  \\\n",
       "0             43.07(b)(4)         corrected   \n",
       "1                     NaN               NaN   \n",
       "2             43.17(a)(1)         corrected   \n",
       "3                     NaN               NaN   \n",
       "4            131.09(d)(2)         corrected   \n",
       "\n",
       "                           inspection_summary_result  \\\n",
       "0  initial_annual_inspection_-_reinspection_required   \n",
       "1  compliance_inspection_of_open_violations_-_pre...   \n",
       "2  initial_annual_inspection_-_reinspection_required   \n",
       "3  compliance_inspection_of_open_violations_-_pre...   \n",
       "4  initial_annual_inspection_-_reinspection_required   \n",
       "\n",
       "                          inspection_reason  \\\n",
       "0                 initial_annual_inspection   \n",
       "1  compliance_inspection_of_open_violations   \n",
       "2                 initial_annual_inspection   \n",
       "3  compliance_inspection_of_open_violations   \n",
       "4                 initial_annual_inspection   \n",
       "\n",
       "                                  result  \n",
       "0                  reinspection_required  \n",
       "1  previously_cited_violations_corrected  \n",
       "2                  reinspection_required  \n",
       "3  previously_cited_violations_corrected  \n",
       "4                  reinspection_required  \n",
       "\n",
       "[5 rows x 36 columns]"
      ]
     },
     "execution_count": 37,
     "metadata": {},
     "output_type": "execute_result"
    }
   ],
   "source": [
    "df.head()"
   ]
  },
  {
   "cell_type": "code",
   "execution_count": 38,
   "metadata": {},
   "outputs": [
    {
     "name": "stdout",
     "output_type": "stream",
     "text": [
      "\t-> Crear variables de año, mes y día a partir de Inspection date\n"
     ]
    }
   ],
   "source": [
    "print(\"\\t-> Crear variables de año, mes y día a partir de Inspection date\")"
   ]
  },
  {
   "cell_type": "code",
   "execution_count": 39,
   "metadata": {},
   "outputs": [
    {
     "data": {
      "text/plain": [
       "0        01/31/2019\n",
       "1        05/30/2018\n",
       "2        01/31/2019\n",
       "3        04/16/2019\n",
       "4        04/17/2018\n",
       "            ...    \n",
       "53195    10/03/2018\n",
       "53196    03/09/2018\n",
       "53197    11/08/2018\n",
       "53198    10/25/2018\n",
       "53199    04/17/2019\n",
       "Name: inspection_date, Length: 39735, dtype: object"
      ]
     },
     "execution_count": 39,
     "metadata": {},
     "output_type": "execute_result"
    }
   ],
   "source": [
    "df.inspection_date.dropna()"
   ]
  },
  {
   "cell_type": "code",
   "execution_count": 40,
   "metadata": {},
   "outputs": [],
   "source": [
    "import datetime"
   ]
  },
  {
   "cell_type": "code",
   "execution_count": 41,
   "metadata": {},
   "outputs": [],
   "source": [
    "from datetime import datetime"
   ]
  },
  {
   "cell_type": "code",
   "execution_count": 42,
   "metadata": {},
   "outputs": [],
   "source": [
    "df['inspection_date'] = df['inspection_date'].apply(lambda x: pd.to_datetime(x, format='%m/%d/%Y'))"
   ]
  },
  {
   "cell_type": "code",
   "execution_count": 43,
   "metadata": {},
   "outputs": [
    {
     "data": {
      "text/plain": [
       "0       2019-01-31\n",
       "1       2018-05-30\n",
       "2       2019-01-31\n",
       "3       2019-04-16\n",
       "4       2018-04-17\n",
       "           ...    \n",
       "53195   2018-10-03\n",
       "53196   2018-03-09\n",
       "53197   2018-11-08\n",
       "53198   2018-10-25\n",
       "53199   2019-04-17\n",
       "Name: inspection_date, Length: 39781, dtype: datetime64[ns]"
      ]
     },
     "execution_count": 43,
     "metadata": {},
     "output_type": "execute_result"
    }
   ],
   "source": [
    "df.inspection_date"
   ]
  },
  {
   "cell_type": "code",
   "execution_count": 44,
   "metadata": {},
   "outputs": [],
   "source": [
    "df['inspection_month'] = df['inspection_date'].apply(lambda x: pd.to_datetime(x, format='%m/%d/%Y').month)"
   ]
  },
  {
   "cell_type": "code",
   "execution_count": 45,
   "metadata": {},
   "outputs": [],
   "source": [
    "df['inspection_day'] = df['inspection_date'].apply(lambda x: pd.to_datetime(x, format='%m/%d/%Y').day)"
   ]
  },
  {
   "cell_type": "code",
   "execution_count": 46,
   "metadata": {},
   "outputs": [],
   "source": [
    "df['inspection_year'] = df['inspection_date'].apply(lambda x: pd.to_datetime(x, format='%m/%d/%Y').year)"
   ]
  },
  {
   "cell_type": "code",
   "execution_count": 47,
   "metadata": {},
   "outputs": [
    {
     "name": "stdout",
     "output_type": "stream",
     "text": [
      "\t-> Poner como primer columna center_id\n"
     ]
    }
   ],
   "source": [
    "print(\"\\t-> Poner como primer columna center_id\")"
   ]
  },
  {
   "cell_type": "code",
   "execution_count": 48,
   "metadata": {},
   "outputs": [],
   "source": [
    "df.rename(columns={'day_care_id':'center_id'}, inplace=True)"
   ]
  },
  {
   "cell_type": "code",
   "execution_count": 49,
   "metadata": {},
   "outputs": [
    {
     "data": {
      "text/plain": [
       "0        dc20398\n",
       "1        dc20398\n",
       "2        dc20398\n",
       "3        dc20398\n",
       "4        dc20398\n",
       "          ...   \n",
       "53195    dc23076\n",
       "53196    dc11240\n",
       "53197    dc22116\n",
       "53198    dc22618\n",
       "53199    dc25020\n",
       "Name: center_id, Length: 39781, dtype: object"
      ]
     },
     "execution_count": 49,
     "metadata": {},
     "output_type": "execute_result"
    }
   ],
   "source": [
    "df.center_id"
   ]
  },
  {
   "cell_type": "code",
   "execution_count": 50,
   "metadata": {},
   "outputs": [
    {
     "name": "stdout",
     "output_type": "stream",
     "text": [
      "\t-> Crear variables dummies a partir de las variables inspection_reason y result\n"
     ]
    }
   ],
   "source": [
    "print(\"\\t-> Crear variables dummies a partir de las variables inspection_reason y result\")"
   ]
  },
  {
   "cell_type": "code",
   "execution_count": 51,
   "metadata": {},
   "outputs": [
    {
     "data": {
      "text/plain": [
       "initial_annual_inspection                       25233\n",
       "compliance_inspection_of_open_violations         7022\n",
       "monitoring_inspection_non-routine                5323\n",
       "NaN                                              2125\n",
       "lead_based_paint_or_lead_in_water_inspection       78\n",
       "Name: inspection_reason, dtype: int64"
      ]
     },
     "execution_count": 51,
     "metadata": {},
     "output_type": "execute_result"
    }
   ],
   "source": [
    "df.inspection_reason.value_counts(dropna=False)"
   ]
  },
  {
   "cell_type": "code",
   "execution_count": 52,
   "metadata": {},
   "outputs": [],
   "source": [
    "df['inspection_reason'] = df.inspection_reason.astype('str')"
   ]
  },
  {
   "cell_type": "code",
   "execution_count": 53,
   "metadata": {},
   "outputs": [],
   "source": [
    "df['initial_annual_inspection'] = ['initial_annual_inspection' in i for i in df['inspection_reason']]\n",
    "df['compliance_inspection_of_open_violations'] = ['compliance_inspection_of_open_violations' in i for i in df['inspection_reason']]\n",
    "df['monitoring_inspection_non_routine'] = ['monitoring_inspection_non-routine' in i for i in df['inspection_reason']]\n",
    "df['lead_based_paint_or_lead_in_water_inspection'] = ['lead_based_paint_or_lead_in_water_inspection' in i for i in df['inspection_reason']]"
   ]
  },
  {
   "cell_type": "code",
   "execution_count": 54,
   "metadata": {},
   "outputs": [
    {
     "data": {
      "text/plain": [
       "(39781, 43)"
      ]
     },
     "execution_count": 54,
     "metadata": {},
     "output_type": "execute_result"
    }
   ],
   "source": [
    "df.shape"
   ]
  },
  {
   "cell_type": "code",
   "execution_count": 55,
   "metadata": {},
   "outputs": [],
   "source": [
    "df['initial_annual_inspection'] = df.initial_annual_inspection.apply(lambda x: 1 if x == True else 0)\n",
    "df['compliance_inspection_of_open_violations'] = df.compliance_inspection_of_open_violations.apply(lambda x: 1 if x == True else 0)\n",
    "df['monitoring_inspection_non_routine'] = df.monitoring_inspection_non_routine.apply(lambda x: 1 if x == True else 0)\n",
    "df['lead_based_paint_or_lead_in_water_inspection'] = df.lead_based_paint_or_lead_in_water_inspection.apply(lambda x: 1 if x == True else 0)"
   ]
  },
  {
   "cell_type": "code",
   "execution_count": 56,
   "metadata": {},
   "outputs": [
    {
     "data": {
      "text/plain": [
       "(39781, 43)"
      ]
     },
     "execution_count": 56,
     "metadata": {},
     "output_type": "execute_result"
    }
   ],
   "source": [
    "df.shape"
   ]
  },
  {
   "cell_type": "code",
   "execution_count": 57,
   "metadata": {},
   "outputs": [
    {
     "data": {
      "text/plain": [
       "reinspection_required;_fines_pending                                 13917\n",
       "passed_inspection_with_no_violations                                  9236\n",
       "reinspection_required                                                 5543\n",
       "reinspection_not_required                                             4657\n",
       "NaN                                                                   2125\n",
       "previously_cited_violations_corrected                                 1876\n",
       "reinspection_required;_violations_corrected_at_time_of_inspection     1519\n",
       "passed_inspection;_violations_corrected_at_time_of_inspection          573\n",
       "reinspection_required;_program_closed                                  248\n",
       "previously_closed_program_re-opened                                     87\n",
       "Name: result, dtype: int64"
      ]
     },
     "execution_count": 57,
     "metadata": {},
     "output_type": "execute_result"
    }
   ],
   "source": [
    "df.result.value_counts(dropna=False)"
   ]
  },
  {
   "cell_type": "code",
   "execution_count": 58,
   "metadata": {},
   "outputs": [
    {
     "name": "stdout",
     "output_type": "stream",
     "text": [
      "\t-> La variable result al parecer cuenta con dos variables, al parecer son dos resultados\n"
     ]
    }
   ],
   "source": [
    "print(\"\\t-> La variable result al parecer cuenta con dos variables, al parecer son dos resultados\")"
   ]
  },
  {
   "cell_type": "code",
   "execution_count": 59,
   "metadata": {},
   "outputs": [],
   "source": [
    "df_2 = df.result.str.partition(';_')"
   ]
  },
  {
   "cell_type": "code",
   "execution_count": 60,
   "metadata": {},
   "outputs": [
    {
     "data": {
      "text/html": [
       "<div>\n",
       "<style scoped>\n",
       "    .dataframe tbody tr th:only-of-type {\n",
       "        vertical-align: middle;\n",
       "    }\n",
       "\n",
       "    .dataframe tbody tr th {\n",
       "        vertical-align: top;\n",
       "    }\n",
       "\n",
       "    .dataframe thead th {\n",
       "        text-align: right;\n",
       "    }\n",
       "</style>\n",
       "<table border=\"1\" class=\"dataframe\">\n",
       "  <thead>\n",
       "    <tr style=\"text-align: right;\">\n",
       "      <th></th>\n",
       "      <th>0</th>\n",
       "      <th>1</th>\n",
       "      <th>2</th>\n",
       "    </tr>\n",
       "  </thead>\n",
       "  <tbody>\n",
       "    <tr>\n",
       "      <td>0</td>\n",
       "      <td>reinspection_required</td>\n",
       "      <td></td>\n",
       "      <td></td>\n",
       "    </tr>\n",
       "    <tr>\n",
       "      <td>1</td>\n",
       "      <td>previously_cited_violations_corrected</td>\n",
       "      <td></td>\n",
       "      <td></td>\n",
       "    </tr>\n",
       "    <tr>\n",
       "      <td>2</td>\n",
       "      <td>reinspection_required</td>\n",
       "      <td></td>\n",
       "      <td></td>\n",
       "    </tr>\n",
       "    <tr>\n",
       "      <td>3</td>\n",
       "      <td>previously_cited_violations_corrected</td>\n",
       "      <td></td>\n",
       "      <td></td>\n",
       "    </tr>\n",
       "    <tr>\n",
       "      <td>4</td>\n",
       "      <td>reinspection_required</td>\n",
       "      <td></td>\n",
       "      <td></td>\n",
       "    </tr>\n",
       "    <tr>\n",
       "      <td>...</td>\n",
       "      <td>...</td>\n",
       "      <td>...</td>\n",
       "      <td>...</td>\n",
       "    </tr>\n",
       "    <tr>\n",
       "      <td>53195</td>\n",
       "      <td>reinspection_required</td>\n",
       "      <td>;_</td>\n",
       "      <td>fines_pending</td>\n",
       "    </tr>\n",
       "    <tr>\n",
       "      <td>53196</td>\n",
       "      <td>reinspection_required</td>\n",
       "      <td>;_</td>\n",
       "      <td>fines_pending</td>\n",
       "    </tr>\n",
       "    <tr>\n",
       "      <td>53197</td>\n",
       "      <td>reinspection_required</td>\n",
       "      <td>;_</td>\n",
       "      <td>fines_pending</td>\n",
       "    </tr>\n",
       "    <tr>\n",
       "      <td>53198</td>\n",
       "      <td>passed_inspection_with_no_violations</td>\n",
       "      <td></td>\n",
       "      <td></td>\n",
       "    </tr>\n",
       "    <tr>\n",
       "      <td>53199</td>\n",
       "      <td>reinspection_required</td>\n",
       "      <td>;_</td>\n",
       "      <td>fines_pending</td>\n",
       "    </tr>\n",
       "  </tbody>\n",
       "</table>\n",
       "<p>39781 rows × 3 columns</p>\n",
       "</div>"
      ],
      "text/plain": [
       "                                           0   1              2\n",
       "0                      reinspection_required                   \n",
       "1      previously_cited_violations_corrected                   \n",
       "2                      reinspection_required                   \n",
       "3      previously_cited_violations_corrected                   \n",
       "4                      reinspection_required                   \n",
       "...                                      ...  ..            ...\n",
       "53195                  reinspection_required  ;_  fines_pending\n",
       "53196                  reinspection_required  ;_  fines_pending\n",
       "53197                  reinspection_required  ;_  fines_pending\n",
       "53198   passed_inspection_with_no_violations                   \n",
       "53199                  reinspection_required  ;_  fines_pending\n",
       "\n",
       "[39781 rows x 3 columns]"
      ]
     },
     "execution_count": 60,
     "metadata": {},
     "output_type": "execute_result"
    }
   ],
   "source": [
    "df_2"
   ]
  },
  {
   "cell_type": "code",
   "execution_count": 61,
   "metadata": {},
   "outputs": [],
   "source": [
    "df_2.rename(columns={0:'result_1', 2:'result_2'}, inplace=True)"
   ]
  },
  {
   "cell_type": "code",
   "execution_count": 62,
   "metadata": {},
   "outputs": [
    {
     "data": {
      "text/html": [
       "<div>\n",
       "<style scoped>\n",
       "    .dataframe tbody tr th:only-of-type {\n",
       "        vertical-align: middle;\n",
       "    }\n",
       "\n",
       "    .dataframe tbody tr th {\n",
       "        vertical-align: top;\n",
       "    }\n",
       "\n",
       "    .dataframe thead th {\n",
       "        text-align: right;\n",
       "    }\n",
       "</style>\n",
       "<table border=\"1\" class=\"dataframe\">\n",
       "  <thead>\n",
       "    <tr style=\"text-align: right;\">\n",
       "      <th></th>\n",
       "      <th>result_1</th>\n",
       "      <th>1</th>\n",
       "      <th>result_2</th>\n",
       "    </tr>\n",
       "  </thead>\n",
       "  <tbody>\n",
       "    <tr>\n",
       "      <td>0</td>\n",
       "      <td>reinspection_required</td>\n",
       "      <td></td>\n",
       "      <td></td>\n",
       "    </tr>\n",
       "    <tr>\n",
       "      <td>1</td>\n",
       "      <td>previously_cited_violations_corrected</td>\n",
       "      <td></td>\n",
       "      <td></td>\n",
       "    </tr>\n",
       "    <tr>\n",
       "      <td>2</td>\n",
       "      <td>reinspection_required</td>\n",
       "      <td></td>\n",
       "      <td></td>\n",
       "    </tr>\n",
       "    <tr>\n",
       "      <td>3</td>\n",
       "      <td>previously_cited_violations_corrected</td>\n",
       "      <td></td>\n",
       "      <td></td>\n",
       "    </tr>\n",
       "    <tr>\n",
       "      <td>4</td>\n",
       "      <td>reinspection_required</td>\n",
       "      <td></td>\n",
       "      <td></td>\n",
       "    </tr>\n",
       "    <tr>\n",
       "      <td>...</td>\n",
       "      <td>...</td>\n",
       "      <td>...</td>\n",
       "      <td>...</td>\n",
       "    </tr>\n",
       "    <tr>\n",
       "      <td>53195</td>\n",
       "      <td>reinspection_required</td>\n",
       "      <td>;_</td>\n",
       "      <td>fines_pending</td>\n",
       "    </tr>\n",
       "    <tr>\n",
       "      <td>53196</td>\n",
       "      <td>reinspection_required</td>\n",
       "      <td>;_</td>\n",
       "      <td>fines_pending</td>\n",
       "    </tr>\n",
       "    <tr>\n",
       "      <td>53197</td>\n",
       "      <td>reinspection_required</td>\n",
       "      <td>;_</td>\n",
       "      <td>fines_pending</td>\n",
       "    </tr>\n",
       "    <tr>\n",
       "      <td>53198</td>\n",
       "      <td>passed_inspection_with_no_violations</td>\n",
       "      <td></td>\n",
       "      <td></td>\n",
       "    </tr>\n",
       "    <tr>\n",
       "      <td>53199</td>\n",
       "      <td>reinspection_required</td>\n",
       "      <td>;_</td>\n",
       "      <td>fines_pending</td>\n",
       "    </tr>\n",
       "  </tbody>\n",
       "</table>\n",
       "<p>39781 rows × 3 columns</p>\n",
       "</div>"
      ],
      "text/plain": [
       "                                    result_1   1       result_2\n",
       "0                      reinspection_required                   \n",
       "1      previously_cited_violations_corrected                   \n",
       "2                      reinspection_required                   \n",
       "3      previously_cited_violations_corrected                   \n",
       "4                      reinspection_required                   \n",
       "...                                      ...  ..            ...\n",
       "53195                  reinspection_required  ;_  fines_pending\n",
       "53196                  reinspection_required  ;_  fines_pending\n",
       "53197                  reinspection_required  ;_  fines_pending\n",
       "53198   passed_inspection_with_no_violations                   \n",
       "53199                  reinspection_required  ;_  fines_pending\n",
       "\n",
       "[39781 rows x 3 columns]"
      ]
     },
     "execution_count": 62,
     "metadata": {},
     "output_type": "execute_result"
    }
   ],
   "source": [
    "df_2"
   ]
  },
  {
   "cell_type": "code",
   "execution_count": 63,
   "metadata": {},
   "outputs": [],
   "source": [
    "df_2 = df_2.drop(df_2.columns[[1]], axis=1) "
   ]
  },
  {
   "cell_type": "code",
   "execution_count": 64,
   "metadata": {},
   "outputs": [],
   "source": [
    "df = pd.concat([df, df_2], axis=1)"
   ]
  },
  {
   "cell_type": "code",
   "execution_count": 65,
   "metadata": {},
   "outputs": [
    {
     "data": {
      "text/plain": [
       "(39781, 45)"
      ]
     },
     "execution_count": 65,
     "metadata": {},
     "output_type": "execute_result"
    }
   ],
   "source": [
    "df.shape"
   ]
  },
  {
   "cell_type": "code",
   "execution_count": 66,
   "metadata": {},
   "outputs": [
    {
     "name": "stdout",
     "output_type": "stream",
     "text": [
      "<class 'pandas.core.frame.DataFrame'>\n",
      "Int64Index: 39781 entries, 0 to 53199\n",
      "Data columns (total 45 columns):\n",
      "center_name                                     39781 non-null object\n",
      "legal_name                                      39781 non-null object\n",
      "building                                        39773 non-null object\n",
      "street                                          39781 non-null object\n",
      "borough                                         39781 non-null object\n",
      "zipcode                                         39736 non-null float64\n",
      "phone                                           39713 non-null object\n",
      "permit_number                                   35796 non-null float64\n",
      "permit_expiration                               39781 non-null object\n",
      "status                                          39781 non-null object\n",
      "age_range                                       37966 non-null object\n",
      "maximum_capacity                                39781 non-null int64\n",
      "center_id                                       39781 non-null object\n",
      "program_type                                    39781 non-null object\n",
      "facility_type                                   39781 non-null object\n",
      "child_care_type                                 39781 non-null object\n",
      "building_identification_number                  39781 non-null int64\n",
      "url                                             20076 non-null object\n",
      "date_permitted                                  35541 non-null object\n",
      "actual                                          35541 non-null object\n",
      "violation_rate_percent                          39710 non-null float64\n",
      "average_violation_rate_percent                  39697 non-null float64\n",
      "total_educational_workers                       39781 non-null int64\n",
      "average_total_educational_workers               39781 non-null float64\n",
      "public_health_hazard_violation_rate             39710 non-null float64\n",
      "average_public_health_hazard_violation_rate     39697 non-null float64\n",
      "critical_violation_rate                         39710 non-null float64\n",
      "average_critical_violation_rate                 39697 non-null float64\n",
      "inspection_date                                 39735 non-null datetime64[ns]\n",
      "regulation_summary                              39735 non-null object\n",
      "violation_category                              24325 non-null object\n",
      "health_code_sub_section                         24325 non-null object\n",
      "violation_status                                24325 non-null object\n",
      "inspection_summary_result                       37656 non-null object\n",
      "inspection_reason                               39781 non-null object\n",
      "result                                          37656 non-null object\n",
      "inspection_month                                39735 non-null float64\n",
      "inspection_day                                  39735 non-null float64\n",
      "inspection_year                                 39735 non-null float64\n",
      "initial_annual_inspection                       39781 non-null int64\n",
      "compliance_inspection_of_open_violations        39781 non-null int64\n",
      "monitoring_inspection_non_routine               39781 non-null int64\n",
      "lead_based_paint_or_lead_in_water_inspection    39781 non-null int64\n",
      "result_1                                        37656 non-null object\n",
      "result_2                                        37656 non-null object\n",
      "dtypes: datetime64[ns](1), float64(12), int64(7), object(25)\n",
      "memory usage: 14.0+ MB\n"
     ]
    }
   ],
   "source": [
    "df.info()"
   ]
  },
  {
   "cell_type": "code",
   "execution_count": 67,
   "metadata": {},
   "outputs": [
    {
     "data": {
      "text/plain": [
       "reinspection_required                    21227\n",
       "passed_inspection_with_no_violations      9236\n",
       "reinspection_not_required                 4657\n",
       "NaN                                       2125\n",
       "previously_cited_violations_corrected     1876\n",
       "passed_inspection                          573\n",
       "previously_closed_program_re-opened         87\n",
       "Name: result_1, dtype: int64"
      ]
     },
     "execution_count": 67,
     "metadata": {},
     "output_type": "execute_result"
    }
   ],
   "source": [
    "df.result_1.value_counts(dropna=False)"
   ]
  },
  {
   "cell_type": "code",
   "execution_count": 68,
   "metadata": {},
   "outputs": [],
   "source": [
    "df['result_1'] = df.result_1.astype('str')"
   ]
  },
  {
   "cell_type": "code",
   "execution_count": 69,
   "metadata": {},
   "outputs": [],
   "source": [
    "df['reinspection_required'] = ['reinspection_required' in i for i in df['result_1']]\n",
    "df['passed_inspection_with_no_violations'] = ['passed_inspection_with_no_violations' in i for i in df['result_1']]\n",
    "df['reinspection_not_required'] = ['reinspection_not_required' in i for i in df['result_1']]\n",
    "df['previously_cited_violations_corrected'] = ['previously_cited_violations_corrected' in i for i in df['result_1']]\n",
    "df['passed_inspection'] = ['passed_inspection' in i for i in df['result_1']]\n",
    "df['previously_closed_program_re-opened'] = ['previously_closed_program_re-opened' in i for i in df['result_1']]"
   ]
  },
  {
   "cell_type": "code",
   "execution_count": 70,
   "metadata": {},
   "outputs": [],
   "source": [
    "df['reinspection_required'] = df.reinspection_required.apply(lambda x: 1 if x==True else 0)\n",
    "df['passed_inspection_with_no_violations'] = df.passed_inspection_with_no_violations.apply(lambda x: 1 if x==True else 0)\n",
    "df['reinspection_not_required'] = df.reinspection_not_required.apply(lambda x: 1 if x==True else 0)\n",
    "df['previously_cited_violations_corrected'] = df.previously_cited_violations_corrected.apply(lambda x: 1 if x==True else 0)\n",
    "df['passed_inspection'] = df.passed_inspection.apply(lambda x: 1 if x==True else 0)\n",
    "df['previously_closed_program_re-opened'] = df['previously_closed_program_re-opened'].apply(lambda x: 1 if x==True else 0)"
   ]
  },
  {
   "cell_type": "code",
   "execution_count": 71,
   "metadata": {},
   "outputs": [
    {
     "data": {
      "text/plain": [
       "(39781, 51)"
      ]
     },
     "execution_count": 71,
     "metadata": {},
     "output_type": "execute_result"
    }
   ],
   "source": [
    "df.shape"
   ]
  },
  {
   "cell_type": "code",
   "execution_count": 72,
   "metadata": {},
   "outputs": [
    {
     "data": {
      "text/html": [
       "<div>\n",
       "<style scoped>\n",
       "    .dataframe tbody tr th:only-of-type {\n",
       "        vertical-align: middle;\n",
       "    }\n",
       "\n",
       "    .dataframe tbody tr th {\n",
       "        vertical-align: top;\n",
       "    }\n",
       "\n",
       "    .dataframe thead th {\n",
       "        text-align: right;\n",
       "    }\n",
       "</style>\n",
       "<table border=\"1\" class=\"dataframe\">\n",
       "  <thead>\n",
       "    <tr style=\"text-align: right;\">\n",
       "      <th></th>\n",
       "      <th>center_name</th>\n",
       "      <th>legal_name</th>\n",
       "      <th>building</th>\n",
       "      <th>street</th>\n",
       "      <th>borough</th>\n",
       "      <th>zipcode</th>\n",
       "      <th>phone</th>\n",
       "      <th>permit_number</th>\n",
       "      <th>permit_expiration</th>\n",
       "      <th>status</th>\n",
       "      <th>...</th>\n",
       "      <th>monitoring_inspection_non_routine</th>\n",
       "      <th>lead_based_paint_or_lead_in_water_inspection</th>\n",
       "      <th>result_1</th>\n",
       "      <th>result_2</th>\n",
       "      <th>reinspection_required</th>\n",
       "      <th>passed_inspection_with_no_violations</th>\n",
       "      <th>reinspection_not_required</th>\n",
       "      <th>previously_cited_violations_corrected</th>\n",
       "      <th>passed_inspection</th>\n",
       "      <th>previously_closed_program_re-opened</th>\n",
       "    </tr>\n",
       "  </thead>\n",
       "  <tbody>\n",
       "    <tr>\n",
       "      <td>0</td>\n",
       "      <td>yeshivat_ohr_haiim</td>\n",
       "      <td>yeshivat_ohr_haiim</td>\n",
       "      <td>86-06</td>\n",
       "      <td>135th_street</td>\n",
       "      <td>queens</td>\n",
       "      <td>11418.0</td>\n",
       "      <td>718-658-7066</td>\n",
       "      <td>NaN</td>\n",
       "      <td>01/23/2115</td>\n",
       "      <td>active</td>\n",
       "      <td>...</td>\n",
       "      <td>0</td>\n",
       "      <td>0</td>\n",
       "      <td>reinspection_required</td>\n",
       "      <td></td>\n",
       "      <td>1</td>\n",
       "      <td>0</td>\n",
       "      <td>0</td>\n",
       "      <td>0</td>\n",
       "      <td>0</td>\n",
       "      <td>0</td>\n",
       "    </tr>\n",
       "    <tr>\n",
       "      <td>1</td>\n",
       "      <td>yeshivat_ohr_haiim</td>\n",
       "      <td>yeshivat_ohr_haiim</td>\n",
       "      <td>86-06</td>\n",
       "      <td>135th_street</td>\n",
       "      <td>queens</td>\n",
       "      <td>11418.0</td>\n",
       "      <td>718-658-7066</td>\n",
       "      <td>NaN</td>\n",
       "      <td>01/23/2115</td>\n",
       "      <td>active</td>\n",
       "      <td>...</td>\n",
       "      <td>0</td>\n",
       "      <td>0</td>\n",
       "      <td>previously_cited_violations_corrected</td>\n",
       "      <td></td>\n",
       "      <td>0</td>\n",
       "      <td>0</td>\n",
       "      <td>0</td>\n",
       "      <td>1</td>\n",
       "      <td>0</td>\n",
       "      <td>0</td>\n",
       "    </tr>\n",
       "    <tr>\n",
       "      <td>2</td>\n",
       "      <td>yeshivat_ohr_haiim</td>\n",
       "      <td>yeshivat_ohr_haiim</td>\n",
       "      <td>86-06</td>\n",
       "      <td>135th_street</td>\n",
       "      <td>queens</td>\n",
       "      <td>11418.0</td>\n",
       "      <td>718-658-7066</td>\n",
       "      <td>NaN</td>\n",
       "      <td>01/23/2115</td>\n",
       "      <td>active</td>\n",
       "      <td>...</td>\n",
       "      <td>0</td>\n",
       "      <td>0</td>\n",
       "      <td>reinspection_required</td>\n",
       "      <td></td>\n",
       "      <td>1</td>\n",
       "      <td>0</td>\n",
       "      <td>0</td>\n",
       "      <td>0</td>\n",
       "      <td>0</td>\n",
       "      <td>0</td>\n",
       "    </tr>\n",
       "    <tr>\n",
       "      <td>3</td>\n",
       "      <td>yeshivat_ohr_haiim</td>\n",
       "      <td>yeshivat_ohr_haiim</td>\n",
       "      <td>86-06</td>\n",
       "      <td>135th_street</td>\n",
       "      <td>queens</td>\n",
       "      <td>11418.0</td>\n",
       "      <td>718-658-7066</td>\n",
       "      <td>NaN</td>\n",
       "      <td>01/23/2115</td>\n",
       "      <td>active</td>\n",
       "      <td>...</td>\n",
       "      <td>0</td>\n",
       "      <td>0</td>\n",
       "      <td>previously_cited_violations_corrected</td>\n",
       "      <td></td>\n",
       "      <td>0</td>\n",
       "      <td>0</td>\n",
       "      <td>0</td>\n",
       "      <td>1</td>\n",
       "      <td>0</td>\n",
       "      <td>0</td>\n",
       "    </tr>\n",
       "    <tr>\n",
       "      <td>4</td>\n",
       "      <td>yeshivat_ohr_haiim</td>\n",
       "      <td>yeshivat_ohr_haiim</td>\n",
       "      <td>86-06</td>\n",
       "      <td>135th_street</td>\n",
       "      <td>queens</td>\n",
       "      <td>11418.0</td>\n",
       "      <td>718-658-7066</td>\n",
       "      <td>NaN</td>\n",
       "      <td>01/23/2115</td>\n",
       "      <td>active</td>\n",
       "      <td>...</td>\n",
       "      <td>0</td>\n",
       "      <td>0</td>\n",
       "      <td>reinspection_required</td>\n",
       "      <td></td>\n",
       "      <td>1</td>\n",
       "      <td>0</td>\n",
       "      <td>0</td>\n",
       "      <td>0</td>\n",
       "      <td>0</td>\n",
       "      <td>0</td>\n",
       "    </tr>\n",
       "  </tbody>\n",
       "</table>\n",
       "<p>5 rows × 51 columns</p>\n",
       "</div>"
      ],
      "text/plain": [
       "          center_name          legal_name building        street borough  \\\n",
       "0  yeshivat_ohr_haiim  yeshivat_ohr_haiim    86-06  135th_street  queens   \n",
       "1  yeshivat_ohr_haiim  yeshivat_ohr_haiim    86-06  135th_street  queens   \n",
       "2  yeshivat_ohr_haiim  yeshivat_ohr_haiim    86-06  135th_street  queens   \n",
       "3  yeshivat_ohr_haiim  yeshivat_ohr_haiim    86-06  135th_street  queens   \n",
       "4  yeshivat_ohr_haiim  yeshivat_ohr_haiim    86-06  135th_street  queens   \n",
       "\n",
       "   zipcode         phone  permit_number permit_expiration  status  ...  \\\n",
       "0  11418.0  718-658-7066            NaN        01/23/2115  active  ...   \n",
       "1  11418.0  718-658-7066            NaN        01/23/2115  active  ...   \n",
       "2  11418.0  718-658-7066            NaN        01/23/2115  active  ...   \n",
       "3  11418.0  718-658-7066            NaN        01/23/2115  active  ...   \n",
       "4  11418.0  718-658-7066            NaN        01/23/2115  active  ...   \n",
       "\n",
       "  monitoring_inspection_non_routine  \\\n",
       "0                                 0   \n",
       "1                                 0   \n",
       "2                                 0   \n",
       "3                                 0   \n",
       "4                                 0   \n",
       "\n",
       "   lead_based_paint_or_lead_in_water_inspection  \\\n",
       "0                                             0   \n",
       "1                                             0   \n",
       "2                                             0   \n",
       "3                                             0   \n",
       "4                                             0   \n",
       "\n",
       "                                result_1 result_2 reinspection_required  \\\n",
       "0                  reinspection_required                              1   \n",
       "1  previously_cited_violations_corrected                              0   \n",
       "2                  reinspection_required                              1   \n",
       "3  previously_cited_violations_corrected                              0   \n",
       "4                  reinspection_required                              1   \n",
       "\n",
       "  passed_inspection_with_no_violations  reinspection_not_required  \\\n",
       "0                                    0                          0   \n",
       "1                                    0                          0   \n",
       "2                                    0                          0   \n",
       "3                                    0                          0   \n",
       "4                                    0                          0   \n",
       "\n",
       "  previously_cited_violations_corrected passed_inspection  \\\n",
       "0                                     0                 0   \n",
       "1                                     1                 0   \n",
       "2                                     0                 0   \n",
       "3                                     1                 0   \n",
       "4                                     0                 0   \n",
       "\n",
       "  previously_closed_program_re-opened  \n",
       "0                                   0  \n",
       "1                                   0  \n",
       "2                                   0  \n",
       "3                                   0  \n",
       "4                                   0  \n",
       "\n",
       "[5 rows x 51 columns]"
      ]
     },
     "execution_count": 72,
     "metadata": {},
     "output_type": "execute_result"
    }
   ],
   "source": [
    "df.head()"
   ]
  },
  {
   "cell_type": "code",
   "execution_count": 73,
   "metadata": {},
   "outputs": [
    {
     "data": {
      "text/plain": [
       "                                              21399\n",
       "fines_pending                                 13917\n",
       "NaN                                            2125\n",
       "violations_corrected_at_time_of_inspection     2092\n",
       "program_closed                                  248\n",
       "Name: result_2, dtype: int64"
      ]
     },
     "execution_count": 73,
     "metadata": {},
     "output_type": "execute_result"
    }
   ],
   "source": [
    "df.result_2.value_counts(dropna=False)"
   ]
  },
  {
   "cell_type": "code",
   "execution_count": 74,
   "metadata": {},
   "outputs": [],
   "source": [
    "df['result_2'] = df.result_2.astype('str')"
   ]
  },
  {
   "cell_type": "code",
   "execution_count": 75,
   "metadata": {},
   "outputs": [],
   "source": [
    "df['fines_pending'] = ['fines_pending' in i for i in df['result_2']]\n",
    "df['violations_corrected_at_time_of_inspection'] = ['violations_corrected_at_time_of_inspection' in i for i in df['result_2']]\n",
    "df['program_closed'] = ['program_closed' in i for i in df['result_2']]"
   ]
  },
  {
   "cell_type": "code",
   "execution_count": 76,
   "metadata": {},
   "outputs": [
    {
     "data": {
      "text/plain": [
       "(39781, 54)"
      ]
     },
     "execution_count": 76,
     "metadata": {},
     "output_type": "execute_result"
    }
   ],
   "source": [
    "df.shape"
   ]
  },
  {
   "cell_type": "code",
   "execution_count": 77,
   "metadata": {},
   "outputs": [],
   "source": [
    "df['fines_pending'] = df.fines_pending.apply(lambda x: 1 if x==True else 0)\n",
    "df['violations_corrected_at_time_of_inspection'] = df.violations_corrected_at_time_of_inspection.apply(lambda x: 1 if x==True else 0)\n",
    "df['program_closed'] = df.program_closed.apply(lambda x: 1 if x==True else 0)"
   ]
  },
  {
   "cell_type": "code",
   "execution_count": 78,
   "metadata": {},
   "outputs": [
    {
     "data": {
      "text/plain": [
       "(39781, 54)"
      ]
     },
     "execution_count": 78,
     "metadata": {},
     "output_type": "execute_result"
    }
   ],
   "source": [
    "df.shape"
   ]
  },
  {
   "cell_type": "code",
   "execution_count": 79,
   "metadata": {},
   "outputs": [
    {
     "data": {
      "text/html": [
       "<div>\n",
       "<style scoped>\n",
       "    .dataframe tbody tr th:only-of-type {\n",
       "        vertical-align: middle;\n",
       "    }\n",
       "\n",
       "    .dataframe tbody tr th {\n",
       "        vertical-align: top;\n",
       "    }\n",
       "\n",
       "    .dataframe thead th {\n",
       "        text-align: right;\n",
       "    }\n",
       "</style>\n",
       "<table border=\"1\" class=\"dataframe\">\n",
       "  <thead>\n",
       "    <tr style=\"text-align: right;\">\n",
       "      <th></th>\n",
       "      <th>center_name</th>\n",
       "      <th>legal_name</th>\n",
       "      <th>building</th>\n",
       "      <th>street</th>\n",
       "      <th>borough</th>\n",
       "      <th>zipcode</th>\n",
       "      <th>phone</th>\n",
       "      <th>permit_number</th>\n",
       "      <th>permit_expiration</th>\n",
       "      <th>status</th>\n",
       "      <th>...</th>\n",
       "      <th>result_2</th>\n",
       "      <th>reinspection_required</th>\n",
       "      <th>passed_inspection_with_no_violations</th>\n",
       "      <th>reinspection_not_required</th>\n",
       "      <th>previously_cited_violations_corrected</th>\n",
       "      <th>passed_inspection</th>\n",
       "      <th>previously_closed_program_re-opened</th>\n",
       "      <th>fines_pending</th>\n",
       "      <th>violations_corrected_at_time_of_inspection</th>\n",
       "      <th>program_closed</th>\n",
       "    </tr>\n",
       "  </thead>\n",
       "  <tbody>\n",
       "    <tr>\n",
       "      <td>0</td>\n",
       "      <td>yeshivat_ohr_haiim</td>\n",
       "      <td>yeshivat_ohr_haiim</td>\n",
       "      <td>86-06</td>\n",
       "      <td>135th_street</td>\n",
       "      <td>queens</td>\n",
       "      <td>11418.0</td>\n",
       "      <td>718-658-7066</td>\n",
       "      <td>NaN</td>\n",
       "      <td>01/23/2115</td>\n",
       "      <td>active</td>\n",
       "      <td>...</td>\n",
       "      <td></td>\n",
       "      <td>1</td>\n",
       "      <td>0</td>\n",
       "      <td>0</td>\n",
       "      <td>0</td>\n",
       "      <td>0</td>\n",
       "      <td>0</td>\n",
       "      <td>0</td>\n",
       "      <td>0</td>\n",
       "      <td>0</td>\n",
       "    </tr>\n",
       "    <tr>\n",
       "      <td>1</td>\n",
       "      <td>yeshivat_ohr_haiim</td>\n",
       "      <td>yeshivat_ohr_haiim</td>\n",
       "      <td>86-06</td>\n",
       "      <td>135th_street</td>\n",
       "      <td>queens</td>\n",
       "      <td>11418.0</td>\n",
       "      <td>718-658-7066</td>\n",
       "      <td>NaN</td>\n",
       "      <td>01/23/2115</td>\n",
       "      <td>active</td>\n",
       "      <td>...</td>\n",
       "      <td></td>\n",
       "      <td>0</td>\n",
       "      <td>0</td>\n",
       "      <td>0</td>\n",
       "      <td>1</td>\n",
       "      <td>0</td>\n",
       "      <td>0</td>\n",
       "      <td>0</td>\n",
       "      <td>0</td>\n",
       "      <td>0</td>\n",
       "    </tr>\n",
       "    <tr>\n",
       "      <td>2</td>\n",
       "      <td>yeshivat_ohr_haiim</td>\n",
       "      <td>yeshivat_ohr_haiim</td>\n",
       "      <td>86-06</td>\n",
       "      <td>135th_street</td>\n",
       "      <td>queens</td>\n",
       "      <td>11418.0</td>\n",
       "      <td>718-658-7066</td>\n",
       "      <td>NaN</td>\n",
       "      <td>01/23/2115</td>\n",
       "      <td>active</td>\n",
       "      <td>...</td>\n",
       "      <td></td>\n",
       "      <td>1</td>\n",
       "      <td>0</td>\n",
       "      <td>0</td>\n",
       "      <td>0</td>\n",
       "      <td>0</td>\n",
       "      <td>0</td>\n",
       "      <td>0</td>\n",
       "      <td>0</td>\n",
       "      <td>0</td>\n",
       "    </tr>\n",
       "    <tr>\n",
       "      <td>3</td>\n",
       "      <td>yeshivat_ohr_haiim</td>\n",
       "      <td>yeshivat_ohr_haiim</td>\n",
       "      <td>86-06</td>\n",
       "      <td>135th_street</td>\n",
       "      <td>queens</td>\n",
       "      <td>11418.0</td>\n",
       "      <td>718-658-7066</td>\n",
       "      <td>NaN</td>\n",
       "      <td>01/23/2115</td>\n",
       "      <td>active</td>\n",
       "      <td>...</td>\n",
       "      <td></td>\n",
       "      <td>0</td>\n",
       "      <td>0</td>\n",
       "      <td>0</td>\n",
       "      <td>1</td>\n",
       "      <td>0</td>\n",
       "      <td>0</td>\n",
       "      <td>0</td>\n",
       "      <td>0</td>\n",
       "      <td>0</td>\n",
       "    </tr>\n",
       "    <tr>\n",
       "      <td>4</td>\n",
       "      <td>yeshivat_ohr_haiim</td>\n",
       "      <td>yeshivat_ohr_haiim</td>\n",
       "      <td>86-06</td>\n",
       "      <td>135th_street</td>\n",
       "      <td>queens</td>\n",
       "      <td>11418.0</td>\n",
       "      <td>718-658-7066</td>\n",
       "      <td>NaN</td>\n",
       "      <td>01/23/2115</td>\n",
       "      <td>active</td>\n",
       "      <td>...</td>\n",
       "      <td></td>\n",
       "      <td>1</td>\n",
       "      <td>0</td>\n",
       "      <td>0</td>\n",
       "      <td>0</td>\n",
       "      <td>0</td>\n",
       "      <td>0</td>\n",
       "      <td>0</td>\n",
       "      <td>0</td>\n",
       "      <td>0</td>\n",
       "    </tr>\n",
       "  </tbody>\n",
       "</table>\n",
       "<p>5 rows × 54 columns</p>\n",
       "</div>"
      ],
      "text/plain": [
       "          center_name          legal_name building        street borough  \\\n",
       "0  yeshivat_ohr_haiim  yeshivat_ohr_haiim    86-06  135th_street  queens   \n",
       "1  yeshivat_ohr_haiim  yeshivat_ohr_haiim    86-06  135th_street  queens   \n",
       "2  yeshivat_ohr_haiim  yeshivat_ohr_haiim    86-06  135th_street  queens   \n",
       "3  yeshivat_ohr_haiim  yeshivat_ohr_haiim    86-06  135th_street  queens   \n",
       "4  yeshivat_ohr_haiim  yeshivat_ohr_haiim    86-06  135th_street  queens   \n",
       "\n",
       "   zipcode         phone  permit_number permit_expiration  status  ...  \\\n",
       "0  11418.0  718-658-7066            NaN        01/23/2115  active  ...   \n",
       "1  11418.0  718-658-7066            NaN        01/23/2115  active  ...   \n",
       "2  11418.0  718-658-7066            NaN        01/23/2115  active  ...   \n",
       "3  11418.0  718-658-7066            NaN        01/23/2115  active  ...   \n",
       "4  11418.0  718-658-7066            NaN        01/23/2115  active  ...   \n",
       "\n",
       "  result_2  reinspection_required passed_inspection_with_no_violations  \\\n",
       "0                               1                                    0   \n",
       "1                               0                                    0   \n",
       "2                               1                                    0   \n",
       "3                               0                                    0   \n",
       "4                               1                                    0   \n",
       "\n",
       "  reinspection_not_required previously_cited_violations_corrected  \\\n",
       "0                         0                                     0   \n",
       "1                         0                                     1   \n",
       "2                         0                                     0   \n",
       "3                         0                                     1   \n",
       "4                         0                                     0   \n",
       "\n",
       "  passed_inspection  previously_closed_program_re-opened fines_pending  \\\n",
       "0                 0                                    0             0   \n",
       "1                 0                                    0             0   \n",
       "2                 0                                    0             0   \n",
       "3                 0                                    0             0   \n",
       "4                 0                                    0             0   \n",
       "\n",
       "  violations_corrected_at_time_of_inspection program_closed  \n",
       "0                                          0              0  \n",
       "1                                          0              0  \n",
       "2                                          0              0  \n",
       "3                                          0              0  \n",
       "4                                          0              0  \n",
       "\n",
       "[5 rows x 54 columns]"
      ]
     },
     "execution_count": 79,
     "metadata": {},
     "output_type": "execute_result"
    }
   ],
   "source": [
    "df.head()"
   ]
  }
 ],
 "metadata": {
  "kernelspec": {
   "display_name": "Python 3",
   "language": "python",
   "name": "python3"
  },
  "language_info": {
   "codemirror_mode": {
    "name": "ipython",
    "version": 3
   },
   "file_extension": ".py",
   "mimetype": "text/x-python",
   "name": "python",
   "nbconvert_exporter": "python",
   "pygments_lexer": "ipython3",
   "version": "3.7.4"
  }
 },
 "nbformat": 4,
 "nbformat_minor": 4
}
